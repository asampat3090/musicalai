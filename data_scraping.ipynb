{
 "cells": [
  {
   "cell_type": "markdown",
   "metadata": {},
   "source": [
    "# Scraping using Selenium and BeautifulSoup"
   ]
  },
  {
   "cell_type": "code",
   "execution_count": null,
   "metadata": {},
   "outputs": [],
   "source": [
    "!pip install selenium\n",
    "!pip install git+https://github.com/SergeyPirogov/webdriver_manager@master\n",
    "!pip install beautifulsoup4\n",
    "!pip install lxml\n",
    "!pip install html5lib\n",
    "!pip install requests\n",
    "!pip install pandas\n",
    "!pip install numpy"
   ]
  },
  {
   "cell_type": "code",
   "execution_count": null,
   "metadata": {},
   "outputs": [],
   "source": [
    "# Code to scrape this website https://pagalworldl.com/files/lofi-mp3-songs-1/1.html\n",
    "\n",
    "from selenium import webdriver\n",
    "from bs4 import BeautifulSoup\n",
    "import requests\n",
    "\n",
    "index_page = \"https://pagalworldl.com/files/lofi-mp3-songs-1/1.html\"\n",
    "\n",
    "# Path: scrape.ipynb\n",
    "driver = webdriver.Safari()\n",
    "driver.get(index_page)  \n",
    "\n",
    "# Path: scrape.ipynb\n",
    "\n",
    "soup = BeautifulSoup(driver.page_source, 'html.parser')\n",
    "\n",
    "# Path: scrape.ipynb\n",
    "songs = soup.find_all('a', href=True)\n",
    "\n",
    "# Path: scrape.ipynb\n",
    "songs = [song['href'] for song in songs if song['href'].endswith('download.html')] \n",
    "\n",
    "print(songs)\n",
    "\n",
    "for song in songs: \n",
    "    driver.find_element(song).click()\n",
    "\n",
    "\n",
    "\n",
    "driver.close()"
   ]
  }
 ],
 "metadata": {
  "language_info": {
   "name": "python"
  },
  "orig_nbformat": 4
 },
 "nbformat": 4,
 "nbformat_minor": 2
}
