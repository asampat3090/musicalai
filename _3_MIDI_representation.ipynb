{
  "nbformat": 4,
  "nbformat_minor": 0,
  "metadata": {
    "colab": {
      "provenance": [],
      "gpuType": "T4",
      "authorship_tag": "ABX9TyMJ0zMvlrdPUi4VaBls//Lu",
      "include_colab_link": true
    },
    "kernelspec": {
      "name": "python3",
      "display_name": "Python 3"
    },
    "language_info": {
      "name": "python"
    },
    "accelerator": "GPU"
  },
  "cells": [
    {
      "cell_type": "markdown",
      "metadata": {
        "id": "view-in-github",
        "colab_type": "text"
      },
      "source": [
        "<a href=\"https://colab.research.google.com/github/asampat3090/musicalai/blob/dev/_3_MIDI_representation.ipynb\" target=\"_parent\"><img src=\"https://colab.research.google.com/assets/colab-badge.svg\" alt=\"Open In Colab\"/></a>"
      ]
    },
    {
      "cell_type": "markdown",
      "source": [
        "# MIDI Representations\n",
        "\n",
        "As musicians working within a digital audio workstation (DAW) like [Ableton Live](https://www.ableton.com/en/live/), FL Studio, Garageband, Sony Acid or Logic Pro, we often work with raw audio tracks but also work with midi tracks which are represented as discrete tones in a spectrum, onto which a sound is attached to each note. We can represent percussion, melodies and everything in between with these notes. MIDI has also been one of the first places where automation and music generation made its mark. Let's walk through what a midi file looks like.\n",
        "\n"
      ],
      "metadata": {
        "id": "1GMxHjJKW7B0"
      }
    },
    {
      "cell_type": "code",
      "source": [
        "!pip install mido"
      ],
      "metadata": {
        "colab": {
          "base_uri": "https://localhost:8080/"
        },
        "id": "eN9DcVeMYNqG",
        "outputId": "ffbbfd87-5a1b-4d0a-8827-0abfc3ee6f77"
      },
      "execution_count": null,
      "outputs": [
        {
          "output_type": "stream",
          "name": "stdout",
          "text": [
            "Collecting mido\n",
            "  Downloading mido-1.3.0-py3-none-any.whl (50 kB)\n",
            "\u001b[?25l     \u001b[90m━━━━━━━━━━━━━━━━━━━━━━━━━━━━━━━━━━━━━━━━\u001b[0m \u001b[32m0.0/50.3 kB\u001b[0m \u001b[31m?\u001b[0m eta \u001b[36m-:--:--\u001b[0m\r\u001b[2K     \u001b[90m━━━━━━━━━━━━━━━━━━━━━━━━━━━━━━━━━━━━━━━━\u001b[0m \u001b[32m50.3/50.3 kB\u001b[0m \u001b[31m1.6 MB/s\u001b[0m eta \u001b[36m0:00:00\u001b[0m\n",
            "\u001b[?25hRequirement already satisfied: packaging~=23.1 in /usr/local/lib/python3.10/dist-packages (from mido) (23.1)\n",
            "Installing collected packages: mido\n",
            "Successfully installed mido-1.3.0\n"
          ]
        }
      ]
    },
    {
      "cell_type": "code",
      "execution_count": null,
      "metadata": {
        "id": "gyhsNcyQWycG"
      },
      "outputs": [],
      "source": [
        "# Adapted from tutorial: https://www.twilio.com/blog/working-with-midi-data-in-python-using-mido\n",
        "\n",
        "from mido import MidiFile\n",
        "\n",
        "mid = MidiFile('transcription.mid', clip=True)\n",
        "print(mid)"
      ]
    },
    {
      "cell_type": "code",
      "source": [
        "# for msg in mid.tracks[0]:\n",
        "#     print(msg)\n",
        "print(len(mid.tracks[0]))"
      ],
      "metadata": {
        "colab": {
          "base_uri": "https://localhost:8080/"
        },
        "id": "tVhzhKyTZM3u",
        "outputId": "7a792d6b-b275-4360-92c9-73ddfcd7e142"
      },
      "execution_count": null,
      "outputs": [
        {
          "output_type": "stream",
          "name": "stdout",
          "text": [
            "1175\n"
          ]
        }
      ]
    },
    {
      "cell_type": "markdown",
      "source": [
        "A MIDI file can have multiple tracks. We start with a simple single track MIDI file and examine each of the messages. From above we can see that this single track has 1175 messages. Each one can consist of a note on or off signal. Let's take a look at the first message"
      ],
      "metadata": {
        "id": "iBkrjlgfapjg"
      }
    },
    {
      "cell_type": "code",
      "source": [
        "print(mid.tracks[0][0])"
      ],
      "metadata": {
        "colab": {
          "base_uri": "https://localhost:8080/"
        },
        "id": "BBL0_z_Zbi_1",
        "outputId": "075d92eb-1dbb-4208-a4fb-6308f2cc90c2"
      },
      "execution_count": null,
      "outputs": [
        {
          "output_type": "stream",
          "name": "stdout",
          "text": [
            "MetaMessage('set_tempo', tempo=500000, time=0)\n"
          ]
        }
      ]
    },
    {
      "cell_type": "markdown",
      "source": [
        "This is a starting messages or Meta message at time 0 that sets the tempo at 500000 microseconds / quarter note. This translates to 60000000/500000 = 120 quarter notes per minute or equivalently 120 BPM (beats per minute) - this is often the default setting for most DAWs as well.\n",
        "\n",
        "Messages follow these and can have many actions, a full list can be found by the MIDI association: https://www.midi.org/specifications-old/item/table-1-summary-of-midi-message. Let's look at the next one."
      ],
      "metadata": {
        "id": "L2czw-rUbqG_"
      }
    },
    {
      "cell_type": "code",
      "source": [
        "print(mid.tracks[0][1])"
      ],
      "metadata": {
        "colab": {
          "base_uri": "https://localhost:8080/"
        },
        "id": "iZChgBW3bzMl",
        "outputId": "92d3e960-f2da-439c-bac4-8800e4d51522"
      },
      "execution_count": null,
      "outputs": [
        {
          "output_type": "stream",
          "name": "stdout",
          "text": [
            "program_change channel=0 program=0 time=0\n"
          ]
        }
      ]
    },
    {
      "cell_type": "markdown",
      "source": [
        "Program change simply means that the mode has changed at time 0, which is expected since we have started a new song. Next comes the notes themselves - or the \"Note On\" and \"Note Off\" messages."
      ],
      "metadata": {
        "id": "i66vIop0dAMl"
      }
    },
    {
      "cell_type": "code",
      "source": [
        "print(mid.tracks[0][3])"
      ],
      "metadata": {
        "colab": {
          "base_uri": "https://localhost:8080/"
        },
        "id": "Vek75hhrcvg3",
        "outputId": "07471a54-e577-4fe4-bab2-b9319cbcac19"
      },
      "execution_count": null,
      "outputs": [
        {
          "output_type": "stream",
          "name": "stdout",
          "text": [
            "note_on channel=0 note=67 velocity=61 time=0\n"
          ]
        }
      ]
    },
    {
      "cell_type": "markdown",
      "source": [
        "This has a a few key attributes:\n",
        "* `channel` can be used to play multiple instruments at the same time (i.e. have multiple messages with different channels). In this case it is a simple piano piece so only 1 channel.\n",
        "* `note` is a range from 0 to 127 where each integer corresponds to a note and frequency: [full table here](https://www.inspiredacoustics.com/en/MIDI_note_numbers_and_center_frequencies).\n",
        "* `velocity` is a range from 0 to 127 representing the amplitude or volume of note played (0 - silence, 127 - loudest).\n",
        "* `time` is an integer value called \"tick\" to synchronize the notes across tracks. To convert this to seconds or milliseconds, we can use the following forumula (TO INSERT) http://midi.teragonaudio.com/tech/midifile/ppqn.htm"
      ],
      "metadata": {
        "id": "X1uc6XHTdL6x"
      }
    },
    {
      "cell_type": "markdown",
      "source": [
        "### Converting Audio to Midi\n",
        "\n",
        "Conversion of Audio to Midi is an imperfect process - there are many tools that have been created over many years to address this. The wisdom of the crowd helps here - [Reddit Post](https://www.reddit.com/r/learnpython/comments/12kiu31/recommended_python_library_for_converting_audio/). The ones that worked best for me were these\n",
        "\n",
        "* Magenta (from Google) and is neural network based: https://piano-scribe.glitch.me/\n",
        "* Basic Pitch (from Spotify): https://github.com/spotify/basic-pitch\n",
        "\n",
        "The goal of conversion is to create robust Midi datasets that we can use to train a simple model to predict the next notes. In some ways we want to creata a simple version of [Magenta Studio](https://magenta.tensorflow.org/studio/)"
      ],
      "metadata": {
        "id": "LsWdLQioKFs9"
      }
    },
    {
      "cell_type": "code",
      "source": [
        "# Code converting audio files (.wav, .mp3, etc) to .mid files"
      ],
      "metadata": {
        "id": "auWVAo6mKFUf"
      },
      "execution_count": null,
      "outputs": []
    },
    {
      "cell_type": "markdown",
      "source": [
        "# Midi Representations for Modeling\n",
        "\n",
        "If we look at some of the core papers looking at MIDI generation we have\n",
        "\n",
        "* MidiNet - https://arxiv.org/pdf/1703.10847.pdf\n",
        "*\n",
        "\n",
        "At some level all of these look at splitting the Midi files into discrete time bars (typically 1 bar is 4 counts each with 4 quarter notes in between, resulting in 16 time steps for 1 bar).\n",
        "\n",
        "X ∈ {0, 1}^(h×w)"
      ],
      "metadata": {
        "id": "fUEqtfdjb7Id"
      }
    },
    {
      "cell_type": "markdown",
      "source": [
        "### Training a Simple Model\n",
        "\n",
        "Let's start with training a simple model and use some well known datasets. Let's keep the task simple focused on only simple instruments. Here are some datasets\n",
        "\n",
        "* Piano Midi Dataset: https://paperswithcode.com/dataset/giantmidi-piano\n",
        "* Datasets used by Magenta (Google Midi-based Generative models): https://magenta.tensorflow.org/datasets/\n",
        "* Lakh Music Dataset: https://paperswithcode.com/dataset/lakh-midi-dataset"
      ],
      "metadata": {
        "id": "eTDqkpFuI3Kx"
      }
    },
    {
      "cell_type": "code",
      "source": [
        "# setup google drive mount\n",
        "from google.colab import drive\n",
        "drive.mount('/content/drive')"
      ],
      "metadata": {
        "colab": {
          "base_uri": "https://localhost:8080/"
        },
        "id": "WQT6LzGkAkkh",
        "outputId": "5000f314-6069-4df2-b48d-faeba2f22e0f"
      },
      "execution_count": null,
      "outputs": [
        {
          "output_type": "stream",
          "name": "stdout",
          "text": [
            "Mounted at /content/drive\n"
          ]
        }
      ]
    },
    {
      "cell_type": "code",
      "source": [
        "data_path = '/content/drive/MyDrive/Colab Notebooks/train-data/bach-midi-dataset'"
      ],
      "metadata": {
        "id": "--EOSduVLY6e"
      },
      "execution_count": null,
      "outputs": []
    },
    {
      "cell_type": "code",
      "source": [
        "!tar -xvf '/content/drive/MyDrive/Colab Notebooks/train-data/bach-midi-dataset/bach-doodle.tfrecord.tar.gz' -C '/content/drive/MyDrive/Colab Notebooks/train-data/bach-midi-dataset/'"
      ],
      "metadata": {
        "colab": {
          "base_uri": "https://localhost:8080/"
        },
        "id": "m_RpIlp7L2na",
        "outputId": "3c3da4ff-9142-4705-aa32-3a124eebf0f8"
      },
      "execution_count": null,
      "outputs": [
        {
          "output_type": "execute_result",
          "data": {
            "text/plain": [
              "['bach-doodle.tfrecord-00000-of-00192',\n",
              " 'bach-doodle.tfrecord-00001-of-00192',\n",
              " 'bach-doodle.tfrecord-00002-of-00192',\n",
              " 'bach-doodle.tfrecord-00003-of-00192',\n",
              " 'bach-doodle.tfrecord-00004-of-00192',\n",
              " 'bach-doodle.tfrecord-00005-of-00192',\n",
              " 'bach-doodle.tfrecord-00006-of-00192',\n",
              " 'bach-doodle.tfrecord-00007-of-00192',\n",
              " 'bach-doodle.tfrecord-00008-of-00192',\n",
              " 'bach-doodle.tfrecord-00009-of-00192',\n",
              " 'bach-doodle.tfrecord-00010-of-00192',\n",
              " 'bach-doodle.tfrecord-00011-of-00192',\n",
              " 'bach-doodle.tfrecord-00012-of-00192',\n",
              " 'bach-doodle.tfrecord-00013-of-00192',\n",
              " 'bach-doodle.tfrecord-00014-of-00192',\n",
              " 'bach-doodle.tfrecord-00015-of-00192',\n",
              " 'bach-doodle.tfrecord-00016-of-00192',\n",
              " 'bach-doodle.tfrecord-00017-of-00192',\n",
              " 'bach-doodle.tfrecord-00018-of-00192',\n",
              " 'bach-doodle.tfrecord-00019-of-00192',\n",
              " 'bach-doodle.tfrecord-00020-of-00192',\n",
              " 'bach-doodle.tfrecord-00021-of-00192',\n",
              " 'bach-doodle.tfrecord-00022-of-00192',\n",
              " 'bach-doodle.tfrecord-00023-of-00192',\n",
              " 'bach-doodle.tfrecord-00024-of-00192',\n",
              " 'bach-doodle.tfrecord-00025-of-00192',\n",
              " 'bach-doodle.tfrecord-00026-of-00192',\n",
              " 'bach-doodle.tfrecord-00027-of-00192',\n",
              " 'bach-doodle.tfrecord-00028-of-00192',\n",
              " 'bach-doodle.tfrecord-00029-of-00192',\n",
              " 'bach-doodle.tfrecord-00030-of-00192',\n",
              " 'bach-doodle.tfrecord-00031-of-00192',\n",
              " 'bach-doodle.tfrecord-00032-of-00192',\n",
              " 'bach-doodle.tfrecord-00033-of-00192',\n",
              " 'bach-doodle.tfrecord-00034-of-00192',\n",
              " 'bach-doodle.tfrecord-00035-of-00192',\n",
              " 'bach-doodle.tfrecord-00036-of-00192',\n",
              " 'bach-doodle.tfrecord-00037-of-00192',\n",
              " 'bach-doodle.tfrecord-00038-of-00192',\n",
              " 'bach-doodle.tfrecord-00039-of-00192',\n",
              " 'bach-doodle.tfrecord-00040-of-00192',\n",
              " 'bach-doodle.tfrecord-00041-of-00192',\n",
              " 'bach-doodle.tfrecord-00042-of-00192',\n",
              " 'bach-doodle.tfrecord-00043-of-00192',\n",
              " 'bach-doodle.tfrecord-00044-of-00192',\n",
              " 'bach-doodle.tfrecord-00045-of-00192',\n",
              " 'bach-doodle.tfrecord-00046-of-00192',\n",
              " 'bach-doodle.tfrecord-00047-of-00192',\n",
              " 'bach-doodle.tfrecord-00048-of-00192',\n",
              " 'bach-doodle.tfrecord-00049-of-00192',\n",
              " 'bach-doodle.tfrecord-00050-of-00192',\n",
              " 'bach-doodle.tfrecord-00051-of-00192',\n",
              " 'bach-doodle.tfrecord-00052-of-00192',\n",
              " 'bach-doodle.tfrecord-00053-of-00192',\n",
              " 'bach-doodle.tfrecord-00054-of-00192',\n",
              " 'bach-doodle.tfrecord-00055-of-00192',\n",
              " 'bach-doodle.tfrecord-00056-of-00192',\n",
              " 'bach-doodle.tfrecord-00057-of-00192',\n",
              " 'bach-doodle.tfrecord-00058-of-00192',\n",
              " 'bach-doodle.tfrecord-00059-of-00192',\n",
              " 'bach-doodle.tfrecord-00060-of-00192',\n",
              " 'bach-doodle.tfrecord-00061-of-00192',\n",
              " 'bach-doodle.tfrecord-00062-of-00192',\n",
              " 'bach-doodle.tfrecord-00063-of-00192',\n",
              " 'bach-doodle.tfrecord-00064-of-00192',\n",
              " 'bach-doodle.tfrecord-00065-of-00192',\n",
              " 'bach-doodle.tfrecord-00066-of-00192',\n",
              " 'bach-doodle.tfrecord-00067-of-00192',\n",
              " 'bach-doodle.tfrecord-00068-of-00192',\n",
              " 'bach-doodle.tfrecord-00069-of-00192',\n",
              " 'bach-doodle.tfrecord-00070-of-00192',\n",
              " 'bach-doodle.tfrecord-00071-of-00192',\n",
              " 'bach-doodle.tfrecord-00072-of-00192',\n",
              " 'bach-doodle.tfrecord-00073-of-00192',\n",
              " 'bach-doodle.tfrecord-00074-of-00192',\n",
              " 'bach-doodle.tfrecord-00075-of-00192',\n",
              " 'bach-doodle.tfrecord-00076-of-00192',\n",
              " 'bach-doodle.tfrecord-00077-of-00192',\n",
              " 'bach-doodle.tfrecord-00078-of-00192',\n",
              " 'bach-doodle.tfrecord-00079-of-00192',\n",
              " 'bach-doodle.tfrecord-00080-of-00192',\n",
              " 'bach-doodle.tfrecord-00081-of-00192',\n",
              " 'bach-doodle.tfrecord-00082-of-00192',\n",
              " 'bach-doodle.tfrecord-00083-of-00192',\n",
              " 'bach-doodle.tfrecord-00084-of-00192',\n",
              " 'bach-doodle.tfrecord-00085-of-00192',\n",
              " 'bach-doodle.tfrecord-00086-of-00192',\n",
              " 'bach-doodle.tfrecord-00087-of-00192',\n",
              " 'bach-doodle.tfrecord-00088-of-00192',\n",
              " 'bach-doodle.tfrecord-00089-of-00192',\n",
              " 'bach-doodle.tfrecord-00090-of-00192',\n",
              " 'bach-doodle.tfrecord-00091-of-00192',\n",
              " 'bach-doodle.tfrecord-00092-of-00192',\n",
              " 'bach-doodle.tfrecord-00093-of-00192',\n",
              " 'bach-doodle.tfrecord-00094-of-00192',\n",
              " 'bach-doodle.tfrecord-00095-of-00192',\n",
              " 'bach-doodle.tfrecord-00096-of-00192',\n",
              " 'bach-doodle.tfrecord-00097-of-00192',\n",
              " 'bach-doodle.tfrecord-00098-of-00192',\n",
              " 'bach-doodle.tfrecord-00099-of-00192',\n",
              " 'bach-doodle.tfrecord-00100-of-00192',\n",
              " 'bach-doodle.tfrecord-00101-of-00192',\n",
              " 'bach-doodle.tfrecord-00102-of-00192',\n",
              " 'bach-doodle.tfrecord-00103-of-00192',\n",
              " 'bach-doodle.tfrecord-00104-of-00192',\n",
              " 'bach-doodle.tfrecord-00105-of-00192',\n",
              " 'bach-doodle.tfrecord-00106-of-00192',\n",
              " 'bach-doodle.tfrecord-00107-of-00192',\n",
              " 'bach-doodle.tfrecord-00108-of-00192',\n",
              " 'bach-doodle.tfrecord-00109-of-00192',\n",
              " 'bach-doodle.tfrecord-00110-of-00192',\n",
              " 'bach-doodle.tfrecord-00111-of-00192',\n",
              " 'bach-doodle.tfrecord-00112-of-00192',\n",
              " 'bach-doodle.tfrecord-00113-of-00192',\n",
              " 'bach-doodle.tfrecord-00114-of-00192',\n",
              " 'bach-doodle.tfrecord-00115-of-00192',\n",
              " 'bach-doodle.tfrecord-00116-of-00192',\n",
              " 'bach-doodle.tfrecord-00117-of-00192',\n",
              " 'bach-doodle.tfrecord-00118-of-00192',\n",
              " 'bach-doodle.tfrecord-00119-of-00192',\n",
              " 'bach-doodle.tfrecord-00120-of-00192',\n",
              " 'bach-doodle.tfrecord-00121-of-00192',\n",
              " 'bach-doodle.tfrecord-00122-of-00192',\n",
              " 'bach-doodle.tfrecord-00123-of-00192',\n",
              " 'bach-doodle.tfrecord-00124-of-00192',\n",
              " 'bach-doodle.tfrecord-00125-of-00192',\n",
              " 'bach-doodle.tfrecord-00126-of-00192',\n",
              " 'bach-doodle.tfrecord-00127-of-00192',\n",
              " 'bach-doodle.tfrecord-00128-of-00192',\n",
              " 'bach-doodle.tfrecord-00129-of-00192',\n",
              " 'bach-doodle.tfrecord-00130-of-00192',\n",
              " 'bach-doodle.tfrecord-00131-of-00192',\n",
              " 'bach-doodle.tfrecord-00132-of-00192',\n",
              " 'bach-doodle.tfrecord-00133-of-00192',\n",
              " 'bach-doodle.tfrecord-00134-of-00192',\n",
              " 'bach-doodle.tfrecord-00135-of-00192',\n",
              " 'bach-doodle.tfrecord-00136-of-00192',\n",
              " 'bach-doodle.tfrecord-00137-of-00192',\n",
              " 'bach-doodle.tfrecord-00138-of-00192',\n",
              " 'bach-doodle.tfrecord-00139-of-00192',\n",
              " 'bach-doodle.tfrecord-00140-of-00192',\n",
              " 'bach-doodle.tfrecord-00141-of-00192',\n",
              " 'bach-doodle.tfrecord-00142-of-00192',\n",
              " 'bach-doodle.tfrecord-00143-of-00192',\n",
              " 'bach-doodle.tfrecord-00144-of-00192',\n",
              " 'bach-doodle.tfrecord-00145-of-00192',\n",
              " 'bach-doodle.tfrecord-00146-of-00192',\n",
              " 'bach-doodle.tfrecord-00147-of-00192',\n",
              " 'bach-doodle.tfrecord-00148-of-00192',\n",
              " 'bach-doodle.tfrecord-00149-of-00192',\n",
              " 'bach-doodle.tfrecord-00150-of-00192',\n",
              " 'bach-doodle.tfrecord-00151-of-00192',\n",
              " 'bach-doodle.tfrecord-00152-of-00192',\n",
              " 'bach-doodle.tfrecord-00153-of-00192',\n",
              " 'bach-doodle.tfrecord-00154-of-00192',\n",
              " 'bach-doodle.tfrecord-00155-of-00192',\n",
              " 'bach-doodle.tfrecord-00156-of-00192',\n",
              " 'bach-doodle.tfrecord-00157-of-00192',\n",
              " 'bach-doodle.tfrecord-00158-of-00192',\n",
              " 'bach-doodle.tfrecord-00159-of-00192',\n",
              " 'bach-doodle.tfrecord-00160-of-00192',\n",
              " 'bach-doodle.tfrecord-00161-of-00192',\n",
              " 'bach-doodle.tfrecord-00162-of-00192',\n",
              " 'bach-doodle.tfrecord-00163-of-00192',\n",
              " 'bach-doodle.tfrecord-00164-of-00192',\n",
              " 'bach-doodle.tfrecord-00165-of-00192',\n",
              " 'bach-doodle.tfrecord-00166-of-00192',\n",
              " 'bach-doodle.tfrecord-00167-of-00192',\n",
              " 'bach-doodle.tfrecord-00168-of-00192',\n",
              " 'bach-doodle.tfrecord-00169-of-00192',\n",
              " 'bach-doodle.tfrecord-00170-of-00192',\n",
              " 'bach-doodle.tfrecord-00171-of-00192',\n",
              " 'bach-doodle.tfrecord-00172-of-00192',\n",
              " 'bach-doodle.tfrecord-00173-of-00192',\n",
              " 'bach-doodle.tfrecord-00174-of-00192',\n",
              " 'bach-doodle.tfrecord-00175-of-00192',\n",
              " 'bach-doodle.tfrecord-00176-of-00192',\n",
              " 'bach-doodle.tfrecord-00177-of-00192',\n",
              " 'bach-doodle.tfrecord-00178-of-00192',\n",
              " 'bach-doodle.tfrecord-00179-of-00192',\n",
              " 'bach-doodle.tfrecord-00180-of-00192',\n",
              " 'bach-doodle.tfrecord-00181-of-00192',\n",
              " 'bach-doodle.tfrecord-00182-of-00192',\n",
              " 'bach-doodle.tfrecord-00183-of-00192',\n",
              " 'bach-doodle.tfrecord-00184-of-00192',\n",
              " 'bach-doodle.tfrecord-00185-of-00192',\n",
              " 'bach-doodle.tfrecord-00186-of-00192',\n",
              " 'bach-doodle.tfrecord-00187-of-00192',\n",
              " 'bach-doodle.tfrecord-00188-of-00192',\n",
              " 'bach-doodle.tfrecord-00189-of-00192',\n",
              " 'bach-doodle.tfrecord-00190-of-00192',\n",
              " 'bach-doodle.tfrecord-00191-of-00192']"
            ]
          },
          "metadata": {},
          "execution_count": 3
        }
      ]
    },
    {
      "cell_type": "code",
      "source": [
        "# testing training of a simple midi prediction model\n",
        "\n",
        "import numpy as np\n",
        "import torch\n",
        "import torch.nn as nn\n",
        "import torch.optim as optim\n",
        "\n",
        "# load in the data\n",
        "# bach dataset from magenta: https://magenta.tensorflow.org/datasets/bach-doodle#download\n",
        "from torchdata.datapipes.iter import FileLister, FileOpener\n",
        "datapipe1 = FileLister(data_path,\"*.tfrecord-*\")\n",
        "print(len(list(datapipe1)))\n",
        "datapipe2 = FileOpener(datapipe1, mode=\"b\")\n",
        "tfrecord_loader_dp = datapipe2.load_from_tfrecord()\n",
        "example_1 = None\n",
        "for example in tfrecord_loader_dp:\n",
        "    example_1 = example\n",
        "    break\n",
        "\n",
        "# split data between train / val"
      ],
      "metadata": {
        "id": "9X7avzmL9r1o",
        "colab": {
          "base_uri": "https://localhost:8080/"
        },
        "outputId": "d1aa5396-cfd9-4582-cbdf-7a6ca0b2e874"
      },
      "execution_count": null,
      "outputs": [
        {
          "output_type": "stream",
          "name": "stdout",
          "text": [
            "192\n"
          ]
        }
      ]
    },
    {
      "cell_type": "code",
      "source": [
        "# define the model\n",
        "# model = nn.Sequential(\n",
        "#     nn.LayerNorm(),\n",
        "#     nn.MultiheadAttention(5,5),\n",
        "#     nn.LayerNorm()\n",
        "# )\n",
        "\n",
        "print(example_1.keys())\n",
        "print(example_1['backend'])\n",
        "\n",
        "# train the model\n",
        "\n",
        "# infer a forward pass - see result"
      ],
      "metadata": {
        "id": "UOrNJ1HUSO7A",
        "colab": {
          "base_uri": "https://localhost:8080/"
        },
        "outputId": "e51883ac-c31a-4dba-cb3b-0e022b021a68"
      },
      "execution_count": null,
      "outputs": [
        {
          "output_type": "stream",
          "name": "stdout",
          "text": [
            "dict_keys(['session_id', 'backend', 'request_id', 'input_sequence', 'country', 'output_sequence', 'composition_time', 'key_sig', 'feedback', 'loops_listened'])\n",
            "[[b'l']]\n"
          ]
        }
      ]
    }
  ]
}