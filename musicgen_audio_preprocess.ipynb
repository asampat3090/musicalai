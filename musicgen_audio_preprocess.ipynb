{
 "cells": [
  {
   "cell_type": "markdown",
   "metadata": {},
   "source": [
    "# MusicGen Training Preprocessing of group of mp3 files \n",
    "\n",
    "This could be reused for other models where we have mp3 files and need a text description for training. \n"
   ]
  },
  {
   "cell_type": "code",
   "execution_count": null,
   "metadata": {},
   "outputs": [
    {
     "name": "stdout",
     "output_type": "stream",
     "text": [
      "Requirement already satisfied: pydub in /Users/anand/opt/anaconda3/lib/python3.9/site-packages (0.25.1)\n"
     ]
    }
   ],
   "source": [
    "# split into chunks \n",
    "!pip install pydub"
   ]
  },
  {
   "cell_type": "code",
   "execution_count": null,
   "metadata": {},
   "outputs": [],
   "source": [
    "import os\n",
    "from pydub import AudioSegment"
   ]
  },
  {
   "cell_type": "code",
   "execution_count": null,
   "metadata": {},
   "outputs": [],
   "source": [
    "folder = '/Users/anand/code/audio/music-generation/data-lofi/training'"
   ]
  },
  {
   "cell_type": "code",
   "execution_count": null,
   "metadata": {},
   "outputs": [
    {
     "name": "stdout",
     "output_type": "stream",
     "text": [
      "/Users/anand/code/audio/music-generation/data-lofi/training/Mere-Yaaraa-n-Tu-Jo-Mila-(Remix-By-DJ-Chetas\n"
     ]
    }
   ],
   "source": [
    "audio_path = folder \n",
    "dir_list = os.listdir(audio_path)\n",
    "file_path = audio_path + '/' + dir_list[1]\n",
    "# label = os.path.basename(audio_path).split('_')[1].split('.')[0]\n",
    "print(file_path)"
   ]
  },
  {
   "cell_type": "code",
   "execution_count": null,
   "metadata": {},
   "outputs": [],
   "source": [
    "# transform audio \n",
    "from tqdm import tqdm \n",
    "\n",
    "def split_audio_and_save(chunk_size: int, songs_path: str, description: str, output_dir: str = 'output') -> list[AudioSegment]:\n",
    "    \"\"\"split audio into appropriate chunk sizes and save from folder of audio files. \n",
    "    \n",
    "    Note: the final chunk for each song will likely be less than the desired chunk size if not exactly divisible by song length.\n",
    "    \n",
    "    chunk_size: the size of the chunks in seconds\n",
    "    songs_path: directory of songs \n",
    "    description: description to save \n",
    "    output_dir: directory name for where to save. will be saved within the songs_path\n",
    "    \"\"\"\n",
    "    input_songs_list = os.listdir(songs_path)\n",
    "    output_path = os.path.join(songs_path,output_dir)\n",
    "    \n",
    "    if not os.path.exists(output_path):\n",
    "        os.makedirs(output_path)\n",
    "    \n",
    "    for i, input_song in enumerate(tqdm(input_songs_list)): \n",
    "        if \".mp3\" not in input_song: \n",
    "            continue\n",
    "        input_song_path = os.path.join(songs_path,input_song)\n",
    "        try:\n",
    "            input_song_obj = AudioSegment.from_mp3(input_song_path)\n",
    "        except:\n",
    "            print('skipping \"%s\" since it cannot be decoded by ffmpeg' % input_song)\n",
    "            continue\n",
    "        input_song_length = len(input_song_obj)\n",
    "        for j, start_ind in enumerate(range(0,input_song_length,chunk_size * 1000)):\n",
    "            end_ind = start_ind+chunk_size*1000\n",
    "            if end_ind > input_song_length:\n",
    "                end_ind = input_song_length\n",
    "            chunk_name = format(i, '03d')+'_'+format(j, '03d')\n",
    "            # save the audio chunk as .wav\n",
    "            input_song_obj[start_ind:end_ind].export(os.path.join(output_path,chunk_name + '.wav'), format=\"wav\")\n",
    "            # save the .txt file with description\n",
    "            with open(os.path.join(output_path,chunk_name + '.txt'),'w') as f:\n",
    "                f.write(description)"
   ]
  },
  {
   "cell_type": "code",
   "execution_count": null,
   "metadata": {},
   "outputs": [
    {
     "name": "stderr",
     "output_type": "stream",
     "text": [
      "7it [00:00, 336.97it/s]\n",
      "8it [00:00, 228.57it/s]\n",
      "10it [00:00, 429.37it/s]\n",
      "7it [00:00, 191.94it/s]\n",
      "5it [00:00, 409.57it/s]\n",
      "7it [00:00, 558.21it/s]\n",
      "7it [00:00, 582.90it/s]\n",
      "11it [00:00, 392.77it/s]\n",
      "10it [00:00, 645.70it/s]\n",
      "7it [00:00, 584.12it/s]\n",
      "9it [00:00, 461.75it/s]\n",
      "8it [00:00, 620.64it/s]\n",
      "6it [00:00, 441.59it/s]\n",
      "11it [00:00, 546.48it/s]\n",
      "13it [00:00, 678.56it/s]\n",
      "8it [00:00, 431.89it/s]\n",
      "13it [00:00, 483.68it/s]\n",
      "13it [00:00, 570.50it/s]\n",
      "6it [00:00, 412.60it/s]\n",
      "7it [00:00, 449.69it/s]\n",
      "11it [00:00, 488.60it/s]\n",
      "9it [00:00, 754.46it/s]\n",
      "6it [00:00, 307.85it/s]\n",
      "6it [00:00, 589.23it/s]\n",
      "9it [00:00, 723.06it/s]\n",
      "12it [00:00, 423.41it/s]\n",
      "7it [00:00, 425.76it/s]\n",
      "9it [00:00, 623.05it/s]\n",
      "9it [00:00, 388.47it/s]\n",
      "7it [00:00, 387.81it/s]\n"
     ]
    },
    {
     "name": "stdout",
     "output_type": "stream",
     "text": [
      "skipping \"%s\" since it cannot be decoded by ffmpeg\n"
     ]
    },
    {
     "name": "stderr",
     "output_type": "stream",
     "text": [
      "7it [00:00, 558.25it/s]\n",
      "9it [00:00, 523.83it/s]\n",
      "6it [00:00, 577.75it/s]\n",
      "12it [00:00, 647.60it/s]\n",
      "9it [00:00, 530.98it/s]\n",
      "5it [00:00, 356.17it/s]\n",
      "8it [00:00, 474.00it/s]\n",
      "9it [00:00, 391.66it/s]\n",
      "7it [00:00, 286.79it/s]\n",
      "5it [00:00, 291.03it/s]\n",
      "9it [00:00, 349.13it/s]\n",
      "8it [00:00, 215.46it/s]\n",
      "11it [00:00, 327.17it/s]\n",
      "14it [00:00, 330.44it/s]\n",
      "9it [00:00, 249.68it/s]\n",
      "6it [00:00, 439.84it/s]\n",
      "8it [00:00, 487.07it/s]\n",
      "11it [00:00, 399.59it/s]\n",
      "7it [00:00, 367.11it/s]\n",
      "7it [00:00, 376.86it/s]\n",
      "8it [00:00, 273.72it/s]\n",
      "9it [00:00, 408.00it/s]\n",
      "8it [00:00, 412.50it/s]\n",
      "8it [00:00, 321.00it/s]\n",
      "11it [00:00, 378.95it/s]\n",
      "5it [00:00, 352.34it/s]\n",
      "13it [00:00, 321.93it/s]\n",
      "8it [00:00, 410.40it/s]\n",
      "7it [00:00, 348.74it/s]\n",
      "11it [00:00, 282.75it/s]\n",
      "6it [00:00, 377.71it/s]\n",
      "4it [00:00, 371.74it/s]\n",
      "7it [00:00, 285.42it/s]\n",
      "5it [00:00, 271.59it/s]\n",
      "7it [00:00, 339.05it/s]\n",
      "9it [00:00, 278.68it/s]\n",
      "6it [00:00, 347.52it/s]\n",
      "8it [00:00, 389.95it/s]\n",
      "9it [00:00, 286.57it/s]\n",
      "6it [00:00, 303.66it/s]\n",
      "8it [00:00, 341.55it/s]\n",
      "10it [00:00, 362.27it/s]\n",
      "11it [00:00, 284.94it/s]\n",
      "8it [00:00, 250.88it/s]\n",
      "8it [00:00, 260.07it/s]\n",
      "13it [00:00, 336.91it/s]\n",
      "12it [00:00, 309.59it/s]\n",
      "11it [00:00, 299.64it/s]\n",
      "9it [00:00, 254.15it/s]\n",
      "9it [00:00, 287.88it/s]\n",
      "9it [00:00, 229.80it/s]\n",
      "11it [00:00, 303.19it/s]\n",
      "7it [00:00, 269.08it/s]\n",
      "4it [00:00, 257.52it/s]\n",
      "6it [00:00, 260.99it/s]\n",
      "12it [00:00, 303.63it/s]\n",
      "7it [00:00, 300.22it/s]\n",
      "9it [00:00, 250.86it/s]\n",
      "7it [00:00, 306.01it/s]\n",
      "5it [00:00, 255.03it/s]\n",
      "6it [00:00, 346.46it/s]\n",
      "7it [00:00, 258.08it/s]\n",
      "7it [00:00, 267.66it/s]\n",
      "8it [00:00, 314.85it/s]\n",
      "10it [00:00, 302.85it/s]\n",
      "8it [00:00, 229.83it/s]\n",
      "10it [00:00, 265.33it/s]\n",
      "6it [00:00, 321.58it/s]\n",
      "7it [00:00, 272.07it/s]\n",
      "9it [00:00, 310.23it/s]\n",
      "9it [00:00, 277.84it/s]\n",
      "10it [00:00, 294.91it/s]\n",
      "12it [00:00, 269.51it/s]\n",
      "7it [00:00, 281.14it/s]\n",
      "15it [00:00, 259.96it/s]\n",
      "8it [00:00, 276.64it/s]\n",
      "9it [00:00, 320.66it/s]\n",
      "15it [00:00, 268.01it/s]\n",
      "8it [00:00, 262.27it/s]\n",
      "7it [00:00, 293.44it/s]\n",
      "8it [00:00, 275.44it/s]\n",
      "7it [00:00, 417.41it/s]\n",
      "7it [00:00, 345.17it/s]\n",
      "8it [00:00, 325.84it/s]\n",
      "7it [00:00, 205.71it/s]\n",
      "6it [00:00, 235.45it/s]\n",
      "7it [00:00, 283.51it/s]\n",
      "10it [00:00, 274.44it/s]\n",
      "11it [00:00, 269.22it/s]\n",
      "8it [00:00, 288.77it/s]\n",
      "10it [00:00, 242.52it/s]\n",
      "11it [00:00, 250.06it/s]\n",
      "9it [00:00, 223.42it/s]\n",
      "7it [00:00, 295.80it/s]\n",
      "9it [00:00, 308.28it/s]\n",
      "7it [00:00, 243.09it/s]\n",
      "11it [00:00, 285.49it/s]\n",
      "7it [00:00, 245.68it/s]\n",
      "15it [00:00, 355.30it/s]\n",
      "6it [00:00, 312.81it/s]\n",
      "8it [00:00, 297.03it/s]\n",
      "15it [00:00, 303.75it/s]\n",
      "5it [00:00, 266.44it/s]\n",
      "10it [00:00, 393.78it/s]\n",
      "9it [00:00, 352.49it/s]\n",
      "7it [00:00, 297.57it/s]\n",
      "13it [00:00, 284.96it/s]\n",
      "6it [00:00, 342.25it/s]\n",
      "13it [00:00, 274.84it/s]\n",
      "10it [00:00, 241.82it/s]\n",
      "8it [00:00, 293.50it/s]\n",
      "12it [00:00, 264.74it/s]\n",
      "11it [00:00, 285.14it/s]\n",
      "9it [00:00, 178.49it/s]\n",
      "7it [00:00, 292.18it/s]\n",
      "8it [00:00, 287.61it/s]\n",
      "9it [00:00, 273.48it/s]\n",
      "4it [00:00, 299.13it/s]\n",
      "9it [00:00, 237.27it/s]\n"
     ]
    }
   ],
   "source": [
    "# run splitting function \n",
    "split_audio_and_save(30, audio_path, \"chill bollywood beats with vocals, a slow BPM, reverb and a vinyl crackle\")\n",
    "\n",
    "# Outputs will look something like this 000_000.wav, 000_000.txt, etc.."
   ]
  }
 ],
 "metadata": {
  "language_info": {
   "name": "python"
  },
  "orig_nbformat": 4
 },
 "nbformat": 4,
 "nbformat_minor": 2
}
